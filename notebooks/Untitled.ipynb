{
 "cells": [
  {
   "cell_type": "markdown",
   "id": "2e873c96-bda6-4f13-88ac-1298b977ab82",
   "metadata": {},
   "source": [
    "## Introduction"
   ]
  },
  {
   "cell_type": "markdown",
   "id": "98e52a7a-9176-47b9-8ff6-714e264b5537",
   "metadata": {},
   "source": [
    "## Methods"
   ]
  },
  {
   "cell_type": "code",
   "execution_count": 15,
   "id": "38710f4a-e9d8-42dc-b64c-16f08ce8bddc",
   "metadata": {},
   "outputs": [
    {
     "name": "stdout",
     "output_type": "stream",
     "text": [
      "[ RASTER BAND COUNT ]:  1\n",
      "[ GETTING BAND ]:  1\n",
      "[ STATS ] =  Minimum=0.000, Maximum=254.000, Mean=45.543, StdDev=40.225\n",
      "[[255 255 255 ... 255 255 255]\n",
      " [255 255 255 ... 255 255 255]\n",
      " [255 255 255 ... 255 255 255]\n",
      " ...\n",
      " [255 255 255 ... 255 255 255]\n",
      " [255 255 255 ... 255 255 255]\n",
      " [255 255 255 ... 255 255 255]]\n"
     ]
    }
   ],
   "source": [
    "from osgeo import gdal\n",
    "import sys\n",
    "import numpy as np\n",
    "\n",
    "src_ds = gdal.Open( \"images/Ky1Can.tif\" )\n",
    "\n",
    "print (\"[ RASTER BAND COUNT ]: \", src_ds.RasterCount)\n",
    "for band in range( src_ds.RasterCount ):\n",
    "    band += 1\n",
    "    print (\"[ GETTING BAND ]: \", band)\n",
    "    srcband = src_ds.GetRasterBand(band)\n",
    "\n",
    "    stats = srcband.GetStatistics( True, True )\n",
    "\n",
    "    print (\"[ STATS ] =  Minimum=%.3f, Maximum=%.3f, Mean=%.3f, StdDev=%.3f\" % ( \\\n",
    "            stats[0], stats[1], stats[2], stats[3] ))\n",
    "\n",
    "    rast_array = np.array(src_ds.GetRasterBand(1).ReadAsArray())\n",
    "    print (rast_array)"
   ]
  },
  {
   "cell_type": "code",
   "execution_count": 6,
   "id": "a025237a-3a85-4d9c-b7d5-d0a700970a86",
   "metadata": {},
   "outputs": [
    {
     "ename": "AttributeError",
     "evalue": "'NoneType' object has no attribute 'RasterCount'",
     "output_type": "error",
     "traceback": [
      "\u001b[1;31m---------------------------------------------------------------------------\u001b[0m",
      "\u001b[1;31mAttributeError\u001b[0m                            Traceback (most recent call last)",
      "Cell \u001b[1;32mIn[6], line 1\u001b[0m\n\u001b[1;32m----> 1\u001b[0m \u001b[38;5;28mprint\u001b[39m(dataset\u001b[38;5;241m.\u001b[39mRasterCount)\n",
      "\u001b[1;31mAttributeError\u001b[0m: 'NoneType' object has no attribute 'RasterCount'"
     ]
    }
   ],
   "source": []
  },
  {
   "cell_type": "code",
   "execution_count": null,
   "id": "32811f37-6c77-4b5b-8873-d3ae76cd2a73",
   "metadata": {},
   "outputs": [],
   "source": []
  }
 ],
 "metadata": {
  "kernelspec": {
   "display_name": "Python 3 (ipykernel)",
   "language": "python",
   "name": "python3"
  },
  "language_info": {
   "codemirror_mode": {
    "name": "ipython",
    "version": 3
   },
   "file_extension": ".py",
   "mimetype": "text/x-python",
   "name": "python",
   "nbconvert_exporter": "python",
   "pygments_lexer": "ipython3",
   "version": "3.11.7"
  }
 },
 "nbformat": 4,
 "nbformat_minor": 5
}
